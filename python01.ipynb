{
 "cells": [
  {
   "cell_type": "code",
   "execution_count": 2,
   "metadata": {},
   "outputs": [
    {
     "name": "stdout",
     "output_type": "stream",
     "text": [
      "epale mundo 2\n"
     ]
    }
   ],
   "source": [
    "print(\"epale mundo 2\")"
   ]
  },
  {
   "cell_type": "markdown",
   "metadata": {},
   "source": [
    "### Python\n",
    "* Variables\n",
    "* Sintaxis \n",
    "    -Tipos de errores\n",
    "* Operadores matemáticos básicos \n",
    "* Operadores de configuración\n",
    "* Operadores lógicos\n",
    "* Condicionales\n",
    "    - Simples\n",
    "    - Anidados\n",
    "    - Encadenados\n",
    "* Ciclos\n",
    "    - finitos\n",
    "    - infinitos\n",
    "* Funciones\n",
    "* Estructuras de datos\n",
    "    - Cadenas de caracteres\n",
    "    - Enteros\n",
    "    - Flotantes\n",
    "    - Listas\n",
    "    - Diccionarios\n",
    "    - Tuplas"
   ]
  },
  {
   "cell_type": "code",
   "execution_count": 4,
   "metadata": {},
   "outputs": [],
   "source": [
    "# variables\n",
    "# minuscula\n",
    "name = \"josefino\"\n",
    "apellido = \"primero\"\n"
   ]
  },
  {
   "cell_type": "code",
   "execution_count": 8,
   "metadata": {},
   "outputs": [
    {
     "ename": "SyntaxError",
     "evalue": "cannot assign to expression here. Maybe you meant '==' instead of '='? (3341544810.py, line 4)",
     "output_type": "error",
     "traceback": [
      "\u001b[1;36m  Cell \u001b[1;32mIn[8], line 4\u001b[1;36m\u001b[0m\n\u001b[1;33m    last-name = \"primero\"\u001b[0m\n\u001b[1;37m    ^\u001b[0m\n\u001b[1;31mSyntaxError\u001b[0m\u001b[1;31m:\u001b[0m cannot assign to expression here. Maybe you meant '==' instead of '='?\n"
     ]
    }
   ],
   "source": [
    "last_name = \"primero\"\n",
    "LastName = \"primero\"\n",
    "\n",
    "last-name = \"primero\""
   ]
  },
  {
   "cell_type": "code",
   "execution_count": 9,
   "metadata": {},
   "outputs": [
    {
     "ename": "NameError",
     "evalue": "name 'last' is not defined",
     "output_type": "error",
     "traceback": [
      "\u001b[1;31m---------------------------------------------------------------------------\u001b[0m",
      "\u001b[1;31mNameError\u001b[0m                                 Traceback (most recent call last)",
      "Cell \u001b[1;32mIn[9], line 1\u001b[0m\n\u001b[1;32m----> 1\u001b[0m \u001b[43mlast\u001b[49m\u001b[38;5;241m.\u001b[39mname \u001b[38;5;241m=\u001b[39m \u001b[38;5;124m\"\u001b[39m\u001b[38;5;124mprimero\u001b[39m\u001b[38;5;124m\"\u001b[39m\n",
      "\u001b[1;31mNameError\u001b[0m: name 'last' is not defined"
     ]
    }
   ],
   "source": [
    "last.name = \"primero\""
   ]
  },
  {
   "cell_type": "code",
   "execution_count": null,
   "metadata": {},
   "outputs": [],
   "source": [
    "name = \"josefino\""
   ]
  },
  {
   "cell_type": "code",
   "execution_count": 10,
   "metadata": {},
   "outputs": [
    {
     "ename": "SyntaxError",
     "evalue": "cannot assign to expression here. Maybe you meant '==' instead of '='? (1329734263.py, line 1)",
     "output_type": "error",
     "traceback": [
      "\u001b[1;36m  Cell \u001b[1;32mIn[10], line 1\u001b[1;36m\u001b[0m\n\u001b[1;33m    last-name = \"jose\"\u001b[0m\n\u001b[1;37m    ^\u001b[0m\n\u001b[1;31mSyntaxError\u001b[0m\u001b[1;31m:\u001b[0m cannot assign to expression here. Maybe you meant '==' instead of '='?\n"
     ]
    }
   ],
   "source": [
    "last-name = \"jose\""
   ]
  },
  {
   "cell_type": "code",
   "execution_count": 11,
   "metadata": {},
   "outputs": [],
   "source": [
    "Last_name = \"josefino\""
   ]
  },
  {
   "cell_type": "code",
   "execution_count": 5,
   "metadata": {},
   "outputs": [
    {
     "ename": "NameError",
     "evalue": "name 'Last_name' is not defined",
     "output_type": "error",
     "traceback": [
      "\u001b[1;31m---------------------------------------------------------------------------\u001b[0m",
      "\u001b[1;31mNameError\u001b[0m                                 Traceback (most recent call last)",
      "Cell \u001b[1;32mIn[5], line 1\u001b[0m\n\u001b[1;32m----> 1\u001b[0m \u001b[43mLast_name\u001b[49m\n",
      "\u001b[1;31mNameError\u001b[0m: name 'Last_name' is not defined"
     ]
    }
   ],
   "source": [
    "Last_name"
   ]
  },
  {
   "cell_type": "code",
   "execution_count": 24,
   "metadata": {},
   "outputs": [
    {
     "name": "stdout",
     "output_type": "stream",
     "text": [
      "Resultado de la Suma =  30\n",
      "Resultado de la Resta =  -10\n",
      "Resultado de la Multiplicación =  200\n",
      "Resultado de la División =  0.5\n"
     ]
    }
   ],
   "source": [
    "# Operadores matemáticos\n",
    "number_1 = 10\n",
    "number_2 = 20\n",
    "\n",
    "# suma\n",
    "sum_two = number_1 + number_2\n",
    "print(\"Resultado de la Suma = \", sum_two)\n",
    "\n",
    "# resta\n",
    "resta = number_1 - number_2\n",
    "print(\"Resultado de la Resta = \", resta)\n",
    "\n",
    "# multiplicacion\n",
    "multi = number_1 * number_2\n",
    "print(\"Resultado de la Multiplicación = \", multi)\n",
    "\n",
    "# division\n",
    "div = number_1 / number_2\n",
    "print(\"Resultado de la División = \", div)"
   ]
  },
  {
   "cell_type": "code",
   "execution_count": 35,
   "metadata": {},
   "outputs": [
    {
     "name": "stdout",
     "output_type": "stream",
     "text": [
      "Resultado de la Suma =  13.8\n",
      "Resultado de la Resta =  -3.2\n",
      "Resultado de la Multiplicación =  45.05\n",
      "Resultado de la División =  0.6235294117647059\n"
     ]
    }
   ],
   "source": [
    "# Operadores matemáticos\n",
    "number_1 = input( \"Ingrese el primer número: \" )\n",
    "number_1 = float(number_1)\n",
    "\n",
    "number_2 = input( \"Ingrese el segundo número: \" )\n",
    "number_2 = float(number_2)\n",
    "\n",
    "# suma\n",
    "sum_two = number_1 + number_2\n",
    "print(\"Resultado de la Suma = \", sum_two)\n",
    "\n",
    "# resta\n",
    "resta = number_1 - number_2\n",
    "print(\"Resultado de la Resta = \", resta)\n",
    "\n",
    "# multiplicacion\n",
    "multi = number_1 * number_2\n",
    "print(\"Resultado de la Multiplicación = \", multi)\n",
    "\n",
    "# division\n",
    "div = number_1 / number_2\n",
    "print(\"Resultado de la División = \", div)"
   ]
  },
  {
   "cell_type": "code",
   "execution_count": 31,
   "metadata": {},
   "outputs": [
    {
     "data": {
      "text/plain": [
       "'1122'"
      ]
     },
     "execution_count": 31,
     "metadata": {},
     "output_type": "execute_result"
    }
   ],
   "source": [
    "\"11\" + \"22\""
   ]
  },
  {
   "cell_type": "code",
   "execution_count": 33,
   "metadata": {},
   "outputs": [
    {
     "data": {
      "text/plain": [
       "'aabb'"
      ]
     },
     "execution_count": 33,
     "metadata": {},
     "output_type": "execute_result"
    }
   ],
   "source": [
    "\"aa\" + \"bb\""
   ]
  },
  {
   "cell_type": "code",
   "execution_count": 28,
   "metadata": {},
   "outputs": [
    {
     "data": {
      "text/plain": [
       "str"
      ]
     },
     "execution_count": 28,
     "metadata": {},
     "output_type": "execute_result"
    }
   ],
   "source": [
    "type(number_1)"
   ]
  },
  {
   "cell_type": "code",
   "execution_count": 54,
   "metadata": {},
   "outputs": [
    {
     "name": "stdout",
     "output_type": "stream",
     "text": [
      "numero 1:  6\n",
      "numero 2:  4\n",
      "mayor\n"
     ]
    }
   ],
   "source": [
    "# Condicional\n",
    "# operadores de comparación\n",
    "# mayor >\n",
    "# menor <\n",
    "# mayor igual >=\n",
    "# menor igual <=\n",
    "# igual ==\n",
    "# diferente !=\n",
    "\n",
    "number_1 = int ( input(\"número 1:\"))\n",
    "number_2 = int ( input(\"número 2:\"))\n",
    "print(\"numero 1: \", number_1)\n",
    "print(\"numero 2: \", number_2)\n",
    "\n",
    "if number_1 > number_2:\n",
    "    print(\"mayor\")\n",
    "else:\n",
    "    print(\"menor\")"
   ]
  },
  {
   "cell_type": "code",
   "execution_count": 38,
   "metadata": {},
   "outputs": [
    {
     "data": {
      "text/plain": [
       "False"
      ]
     },
     "execution_count": 38,
     "metadata": {},
     "output_type": "execute_result"
    }
   ],
   "source": [
    "2 > 2"
   ]
  },
  {
   "cell_type": "code",
   "execution_count": 6,
   "metadata": {},
   "outputs": [
    {
     "name": "stdout",
     "output_type": "stream",
     "text": [
      "Resultado de la Suma =  70.0\n",
      "Resultado de la Resta =  -30.0\n",
      "Resultado de la Multiplicación =  1000.0\n",
      "Resultado de la División =  0.4\n"
     ]
    }
   ],
   "source": [
    "# Operadores matemáticos\n",
    "number_1 = float (input( \"Ingrese el primer número: \" ))\n",
    "\n",
    "number_2 = float (input( \"Ingrese el segundo número: \" ))\n",
    "\n",
    "operation = input(\"Seleccione su operación: suma, resta, multi, div\")\n",
    "\n",
    "\n",
    "# suma\n",
    "sum_two = number_1 + number_2\n",
    "print(\"Resultado de la Suma = \", sum_two)\n",
    "\n",
    "# resta\n",
    "resta = number_1 - number_2\n",
    "print(\"Resultado de la Resta = \", resta)\n",
    "\n",
    "# multiplicacion\n",
    "multi = number_1 * number_2\n",
    "print(\"Resultado de la Multiplicación = \", multi)\n",
    "\n",
    "# division\n",
    "div = number_1 / number_2\n",
    "print(\"Resultado de la División = \", div)"
   ]
  },
  {
   "cell_type": "code",
   "execution_count": null,
   "metadata": {},
   "outputs": [],
   "source": []
  }
 ],
 "metadata": {
  "kernelspec": {
   "display_name": "Python 3",
   "language": "python",
   "name": "python3"
  },
  "language_info": {
   "codemirror_mode": {
    "name": "ipython",
    "version": 3
   },
   "file_extension": ".py",
   "mimetype": "text/x-python",
   "name": "python",
   "nbconvert_exporter": "python",
   "pygments_lexer": "ipython3",
   "version": "3.12.5"
  }
 },
 "nbformat": 4,
 "nbformat_minor": 2
}
